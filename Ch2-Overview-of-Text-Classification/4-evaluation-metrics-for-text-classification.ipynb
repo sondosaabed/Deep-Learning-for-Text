{
 "cells": [
  {
   "cell_type": "markdown",
   "metadata": {},
   "source": [
    "### Evaluation\n",
    "- Generate predictions and store them\n",
    "- Take the maximum\n",
    "\n",
    "**Accuracy**: the ratio of correct preduction to the total predictions\n",
    "\n",
    "**Precision**: confidence in labeling a review as negative\n",
    "\n",
    "correctly predicted positive observations/total predicted positives\n",
    "\n",
    "**Recall**: how well the model spots negative reviews\n",
    "\n",
    "correctly predicted postive obsercations/ all observations in the positive class\n",
    "\n",
    "**F1scoer**: balance between percision and recall\n",
    "\n",
    "Considerations: multiclass scores may be identical: can indicate good model performacne."
   ]
  },
  {
   "cell_type": "code",
   "execution_count": 4,
   "metadata": {},
   "outputs": [
    {
     "name": "stdout",
     "output_type": "stream",
     "text": [
      "Accuracy: 0.6666666865348816\n"
     ]
    }
   ],
   "source": [
    "import torch\n",
    "\n",
    "from torchmetrics import Accuracy\n",
    "actual = torch.tensor([0, 1, 1, 0, 1, 0])\n",
    "predicted = torch.tensor([0, 0, 1, 0, 1, 1])\n",
    "accuracy = Accuracy(task=\"binary\", num_classes=2)\n",
    "acc = accuracy(predicted, actual)\n",
    "print(f\"Accuracy: {acc}\")"
   ]
  },
  {
   "cell_type": "code",
   "execution_count": 5,
   "metadata": {},
   "outputs": [
    {
     "name": "stdout",
     "output_type": "stream",
     "text": [
      "Precision: 0.6666666865348816\n",
      "Recall: 0.6666666865348816\n"
     ]
    }
   ],
   "source": [
    "from torchmetrics import Precision, Recall\n",
    "precision = Precision(task=\"binary\", num_classes=2)\n",
    "recall = Recall(task=\"binary\", num_classes=2)\n",
    "prec = precision(predicted, actual)\n",
    "rec = recall(predicted, actual)\n",
    "print(f\"Precision: {prec}\")\n",
    "print(f\"Recall: {rec}\")"
   ]
  }
 ],
 "metadata": {
  "kernelspec": {
   "display_name": "Python 3",
   "language": "python",
   "name": "python3"
  },
  "language_info": {
   "codemirror_mode": {
    "name": "ipython",
    "version": 3
   },
   "file_extension": ".py",
   "mimetype": "text/x-python",
   "name": "python",
   "nbconvert_exporter": "python",
   "pygments_lexer": "ipython3",
   "version": "3.11.0"
  }
 },
 "nbformat": 4,
 "nbformat_minor": 2
}
