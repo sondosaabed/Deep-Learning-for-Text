{
 "cells": [
  {
   "cell_type": "markdown",
   "metadata": {},
   "source": [
    "### CNN for text classification\n",
    "- classifying tweets as posivie, negative, neutral.\n",
    "\n",
    "- Sliding a filter (kernel: a smLL MAtrix that slides over the input) over the input\n",
    "- perform element wise operations\n",
    "- the stride is the number of positions the filter moves it strides.\n",
    "\n",
    "### CNN architecture for text \n",
    "- Conultional layer: applies filters to input data\n",
    "- Pooling layer: reduces data size while preserving important information\n",
    "- Fully connected layer: makes predictions based on previous layer output\n",
    "- 1D -> text data is one dimentional\n",
    "- pass the input through input layer (forward) converts each word to it's embeding\n",
    "- permute (0, 2, 1) \n",
    "- extract important features with relu\n",
    "- elimnate extra layers and dimensions"
   ]
  },
  {
   "cell_type": "markdown",
   "metadata": {},
   "source": [
    "### Practice\n",
    "Build a CNN model for text\n",
    "\n",
    "PyBooks has successfully built a book recommendation engine. Their next task is to implement a sentiment analysis model to understand user reviews and gain insight into book preferences.\n",
    "\n",
    "You'll use a Convolutional Neural Network (CNN) model to classify text data (book reviews) based on their sentiment.\n",
    "\n",
    "torch, torch.nn as nn, and torch.nn.functional as F have been loaded for you.\n",
    "\n",
    "    Initialize the embedding layer in the __init__() method.\n",
    "    Apply the convolutional layer self.conv to the embedded text within the forward() method.\n",
    "    Apply the ReLU activation to this layer within the forward() method.\n"
   ]
  },
  {
   "cell_type": "code",
   "execution_count": null,
   "metadata": {},
   "outputs": [],
   "source": [
    "import torch\n",
    "from torch import nn, optim"
   ]
  },
  {
   "cell_type": "code",
   "execution_count": null,
   "metadata": {},
   "outputs": [],
   "source": [
    "class TextClassificationCNN(nn.Module):\n",
    "    def __init__(self, vocab_size, embed_dim):\n",
    "        super(TextClassificationCNN, self).__init__()\n",
    "        # Initialize the embedding layer \n",
    "        self.embedding = nn.Embedding(vocab_size, embed_dim)\n",
    "        self.conv = nn.Conv1d(embed_dim, embed_dim, kernel_size=3, stride=1, padding=1)\n",
    "        self.fc = nn.Linear(embed_dim, 2)\n",
    "    def forward(self, text):\n",
    "        embedded = self.embedding(text).permute(0, 2, 1)\n",
    "        # Pass the embedded text through the convolutional layer and apply a ReLU\n",
    "        conved = F.relu(self.conv(embedded))\n",
    "        conved = conved.mean(dim=2) \n",
    "        return self.fc(conved)"
   ]
  },
  {
   "cell_type": "markdown",
   "metadata": {},
   "source": [
    "Train a CNN model for text\n",
    "\n",
    "Well done defining the TextClassificationCNN class. PyBooks now needs to train the model to optimize it for accurate sentiment analysis of book reviews.\n",
    "\n",
    "The following packages have been imported for you: torch, torch.nn as nn, torch.nn.functional as F, torch.optim as optim.\n",
    "\n",
    "An instance of TextClassificationCNN() with arguments vocab_size and embed_dim has also been loaded and saved as model.\n",
    "Instructions\n",
    "100 XP\n",
    "\n",
    "    Define a loss function used for binary classification and save as criterion.\n",
    "    Zero the gradients at the start of the training loop.\n",
    "    Update the parameters at the end of the loop.\n",
    "\n"
   ]
  },
  {
   "cell_type": "code",
   "execution_count": null,
   "metadata": {},
   "outputs": [],
   "source": [
    "# Define the loss function\n",
    "criterion = nn.CrossEntropyLoss()\n",
    "optimizer = optim.SGD(model.parameters(), lr=0.1)\n",
    "\n",
    "for epoch in range(10):\n",
    "    for sentence, label in data:     \n",
    "        # Clear the gradients\n",
    "        model.zero_grad()\n",
    "        sentence = torch.LongTensor([word_to_ix.get(w, 0) for w in sentence]).unsqueeze(0) \n",
    "        label = torch.LongTensor([int(label)])\n",
    "        outputs = model(sentence)\n",
    "        loss = criterion(outputs, label)\n",
    "        loss.backward()\n",
    "        # Update the parameters\n",
    "        optimizer.step()\n",
    "print('Training complete!')"
   ]
  },
  {
   "cell_type": "markdown",
   "metadata": {},
   "source": [
    "Testing the Sentiment Analysis CNN Model\n",
    "\n",
    "Now that model is trained, PyBooks wants to check its performance on some new book reviews.\n",
    "\n",
    "You need to check if the sentiment in a review is positive or negative.\n",
    "\n",
    "The following packages have been imported for you: torch, torch.nn as nn, torch.nn.functional as F, torch.optim as optim.\n",
    "\n",
    "An instance of TextClassificationCNN() with arguments vocab_size and embed_dim has also been loaded and saved as model.\n",
    "Instructions\n",
    "100 XP\n",
    "\n",
    "    Iterate over the book_reviews list, converting the words in each review into a tensor.\n",
    "    Get the model's output for each input_tensor.\n",
    "    Find the index of the most likely sentiment category from the outputs.data.\n",
    "    Extract and convert the predicted_label item into a sentiment string where 1 is a \"Positive\" label.\n"
   ]
  },
  {
   "cell_type": "code",
   "execution_count": null,
   "metadata": {},
   "outputs": [],
   "source": [
    "book_reviews = [\n",
    "    \"I love this book\".split(),\n",
    "    \"I do not like this book\".split()\n",
    "]\n",
    "for review in book_reviews:\n",
    "    # Convert the review words into tensor form\n",
    "    input_tensor = torch.tensor([word_to_ix[w] for w in review], dtype=torch.long).unsqueeze(0) \n",
    "    # Get the model's output\n",
    "    outputs = model(input_tensor)\n",
    "    # Find the index of the most likely sentiment category\n",
    "    _, predicted_label = torch.max(outputs.data, 1)\n",
    "    # Convert the predicted label into a sentiment string\n",
    "    sentiment = \"Positive\" if predicted_label.item() == 1 else \"Negative\"\n",
    "    print(f\"Book Review: {' '.join(review)}\")\n",
    "    print(f\"Sentiment: {sentiment}\\n\")"
   ]
  }
 ],
 "metadata": {
  "language_info": {
   "name": "python"
  }
 },
 "nbformat": 4,
 "nbformat_minor": 2
}
