{
 "cells": [
  {
   "cell_type": "markdown",
   "metadata": {},
   "source": [
    "### Objectives\n",
    "- Assigning labels to text\n",
    "- giving meaning to wrods and sentences\n",
    "\n",
    "Applications\n",
    "- Analyze customer sentement in reviews\n",
    "- Detecting spam in emails\n",
    "- tagging news articles with relevant topics\n",
    "\n",
    "Types of classification text\n",
    "- Binary: like spam of not spam\n",
    "- Multi-class: more than one categories, like news article types\n",
    "- Multi-Label: text can belong to multiple categories symontanously, like a book genre."
   ]
  },
  {
   "cell_type": "code",
   "execution_count": null,
   "metadata": {},
   "outputs": [],
   "source": [
    "import torch\n",
    "from torch import nn\n",
    "\n",
    "def text_processing_pipeline(text):\n",
    "    ## this is defined in the first chapters\n",
    "    return dataloader, vectorizer\n",
    "\n",
    "text = \"Your sample text here.\"\n",
    "dataloader, vectorizer = text_processing_pipeline(text)\n",
    "embedding = nn.Embedding(num_embeddings=10, embedding_dim=50)\n",
    "for batch in dataloader:\n",
    "    output = embedding(batch)\n",
    "    print(output)"
   ]
  }
 ],
 "metadata": {
  "language_info": {
   "name": "python"
  }
 },
 "nbformat": 4,
 "nbformat_minor": 2
}
