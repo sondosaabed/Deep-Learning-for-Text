{
 "cells": [
  {
   "cell_type": "markdown",
   "metadata": {},
   "source": [
    "### Objectives\n",
    "- Assigning labels to text\n",
    "- giving meaning to wrods and sentences\n",
    "\n",
    "Applications\n",
    "- Analyze customer sentement in reviews\n",
    "- Detecting spam in emails\n",
    "- tagging news articles with relevant topics\n",
    "\n",
    "Types of classification text\n",
    "- Binary: like spam of not spam\n",
    "- Multi-class: more than one categories, like news article types\n",
    "- Multi-Label: text can belong to multiple categories symontanously, like a book genre."
   ]
  },
  {
   "cell_type": "code",
   "execution_count": null,
   "metadata": {},
   "outputs": [],
   "source": []
  }
 ],
 "metadata": {
  "language_info": {
   "name": "python"
  }
 },
 "nbformat": 4,
 "nbformat_minor": 2
}
