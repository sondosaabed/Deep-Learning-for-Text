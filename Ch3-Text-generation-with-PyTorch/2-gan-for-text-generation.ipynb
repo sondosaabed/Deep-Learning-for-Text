{
 "cells": [
  {
   "cell_type": "markdown",
   "metadata": {},
   "source": [
    "### Generative adversial networks for text generation\n",
    "- often used for image generation\n",
    "- are becoming more comon for text generation\n",
    "- creating synthetic data for preserving statistical similarities\n",
    "- unike rnns gans replicate complex data patterns\n",
    "- ensuring feature correlation\n",
    "- authentically emulating real-world patterns\n",
    "\n",
    "### Structure of a GAN\n",
    "- Has two components\n",
    "    - Generator: creates fake samples by adding noise.\n",
    "    - discrimentator: diffrentiates between real and generated text data.\n",
    "- noise in here means random changes to real data, such as adding special charchters to a word.\n",
    "- These componets collaborate with teh gerntaor imporiving it's fakes and the discrimnator enhancing it's ability to detect them until the generated text becomes indistingishable from real text."
   ]
  },
  {
   "cell_type": "markdown",
   "metadata": {},
   "source": [
    "### Gnerator network"
   ]
  },
  {
   "cell_type": "code",
   "execution_count": null,
   "metadata": {},
   "outputs": [],
   "source": []
  }
 ],
 "metadata": {
  "language_info": {
   "name": "python"
  }
 },
 "nbformat": 4,
 "nbformat_minor": 2
}
