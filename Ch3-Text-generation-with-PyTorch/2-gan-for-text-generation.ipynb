{
 "cells": [
  {
   "cell_type": "markdown",
   "metadata": {},
   "source": [
    "### Generative adversial networks for text generation\n",
    "- often used for image generation\n",
    "- are becoming more comon for text generation\n",
    "- creating synthetic data for preserving statistical similarities\n",
    "- unike rnns gans replicate complex data patterns\n",
    "- ensuring feature correlation\n",
    "- authentically emulating real-world patterns\n",
    "\n",
    "### Structure of a GAN\n",
    "- Has two components\n",
    "    - Generator: creates fake samples by adding noise.\n",
    "    - discrimentator: diffrentiates between real and generated text data.\n",
    "- noise in here means random changes to real data, such as adding special charchters to a word.\n",
    "- These componets collaborate with teh gerntaor imporiving it's fakes and the discrimnator enhancing it's ability to detect them until the generated text becomes indistingishable from real text."
   ]
  },
  {
   "cell_type": "markdown",
   "metadata": {},
   "source": [
    "### Gnerator network"
   ]
  },
  {
   "cell_type": "code",
   "execution_count": null,
   "metadata": {},
   "outputs": [],
   "source": [
    "from torch import nn\n",
    "class Generator(nn.Module):\n",
    "    def __init__(self):\n",
    "        super().__init__()\n",
    "        self.model = nn.Sequential(\n",
    "            nn.Linear(sequence_length, sequence_length),\n",
    "            nn.Sigmoid()\n",
    "        )\n",
    "    \n",
    "    def forward(self, x):\n",
    "        return self.model(x)"
   ]
  },
  {
   "cell_type": "markdown",
   "metadata": {},
   "source": [
    "### Discrimnator network"
   ]
  },
  {
   "cell_type": "code",
   "execution_count": null,
   "metadata": {},
   "outputs": [],
   "source": [
    "class Discriminator(nn.Module):\n",
    "    def __init__(self):\n",
    "        super().__init__()\n",
    "        self.model = nn.Sequential(\n",
    "            nn.Linear(sequence_length, 1),\n",
    "            nn.Sigmoid() ## is the synthetic data real\n",
    "        )\n",
    "    \n",
    "    def forward(self, x):\n",
    "        return self.model(x)"
   ]
  },
  {
   "cell_type": "markdown",
   "metadata": {},
   "source": [
    "### GAN"
   ]
  },
  {
   "cell_type": "code",
   "execution_count": null,
   "metadata": {},
   "outputs": [],
   "source": [
    "import torch \n",
    "\n",
    "generator = Generator()\n",
    "discrinitor = Discriminator()\n",
    "\n",
    "criterion = nn.BCELoss()\n",
    "\n",
    "opt_gen = torch.optim.Adam(generator.parameters(), lr=0.001)\n",
    "opt_disc = torch.optim.Adam(discrinitor.parameters(), lr=0.001)"
   ]
  },
  {
   "cell_type": "markdown",
   "metadata": {},
   "source": [
    "### Traininng"
   ]
  },
  {
   "cell_type": "code",
   "execution_count": null,
   "metadata": {},
   "outputs": [],
   "source": [
    "num_epochs = 50\n",
    "\n",
    "for epoch in range(num_epochs):\n",
    "    for real_data in data:\n",
    "        real_data - real_data.unsqueeze(0)\n",
    "        noise = torch.rand((1, sequence_length))\n",
    "\n",
    "        disc_real = discrinitor(real_data)\n",
    "        fake_data = generator(noise)\n",
    "\n",
    "        disc_fake = discrinitor(fake_data.detach()) #detach is used to prevent gradiant tracking\n",
    "        loss_disc = criterion(disc_real, torch.ones_like(disc_real)) + criterion(disc_fake, torch.zeros_like(disc_fake))\n",
    "\n",
    "        opt_disc.zero_grad()\n",
    "        loss_disc.backward()\n",
    "        opt_disc.step()\n",
    "\n",
    "        ## train the generator\n",
    "        disc_fake = discrinitor(fake_data)\n",
    "        loss_gen = criterion(disc_fake, torch.ones_like(disc_fake))\n",
    "        opt_gen.zero_grad()\n",
    "        loss_gen.backward()\n",
    "        opt_gen.step()\n",
    "\n",
    "    if (epoch+1) % 10 == 0:\n",
    "        print(f\"Epoch {epoch+1}/{num_epochs}:\\t\n",
    "        Generator loss: {loss_gen.item()}\\t\n",
    "        Discriminator loss: {loss_disc.item()}\")\n"
   ]
  },
  {
   "cell_type": "markdown",
   "metadata": {},
   "source": [
    "### Print generated data"
   ]
  },
  {
   "cell_type": "code",
   "execution_count": null,
   "metadata": {},
   "outputs": [],
   "source": [
    "print(\"Real data: \")\n",
    "print(data[:5])\n",
    "\n",
    "print(\"Generated data: \")\n",
    "for _ in range(5):\n",
    "    noise = torch.rand((1, sequence_length))\n",
    "    generated_data = generator(noise)\n",
    "    print(torch.round(generated_data).detach())"
   ]
  },
  {
   "cell_type": "markdown",
   "metadata": {},
   "source": [
    "the output is also tensors.\n",
    "- in practice we also print the correltion matrix to see if the correlation is maintaned as an evaluation metric \n",
    "\n",
    "![image](https://github.com/sondosaabed/Deep-Learning-for-Text/assets/65151701/414bc504-b50d-407a-b73d-70f6b396cb63)\n"
   ]
  }
 ],
 "metadata": {
  "language_info": {
   "name": "python"
  }
 },
 "nbformat": 4,
 "nbformat_minor": 2
}
