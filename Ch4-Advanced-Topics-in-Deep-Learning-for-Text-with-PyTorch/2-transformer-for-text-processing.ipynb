{
 "cells": [
  {
   "cell_type": "markdown",
   "metadata": {},
   "source": [
    "### transformers for text processing\n",
    "- speed\n",
    "- understand the relationship between words regardless of the distance\n",
    "- human like texts\n",
    "\n",
    "### transformers components\n",
    "- Encoder: process input data\n",
    "- Decoder: reconstructs the output\n",
    "- feed forward networks: refine understanding\n",
    "- positional encodings: ensure order matters\n",
    "- multi head attention: captures multiple inputs or sentiments"
   ]
  },
  {
   "cell_type": "code",
   "execution_count": null,
   "metadata": {},
   "outputs": [],
   "source": []
  }
 ],
 "metadata": {
  "language_info": {
   "name": "python"
  }
 },
 "nbformat": 4,
 "nbformat_minor": 2
}
