{
 "cells": [
  {
   "cell_type": "markdown",
   "metadata": {},
   "source": [
    "### the ambiguity in text\n",
    "- (the it refers to who) abiguity leads to problems\n",
    "\n",
    "### Attention mechanisim\n",
    "- assigns importance to words\n",
    "- ensures that machine's interpretation align with human understanding\n",
    "- ensures human understanding\n",
    "\n",
    "### Self and multi-head attention\n",
    "- Self attention: assigns significane to words within a sentence\n",
    "    - the cat, which was on the roof, was scared\n",
    "    - the cat, was scraed\n",
    "- multi-head attention: like having multiple spotlights, capturing diffrent facets\n",
    "    - understanding \"was scared\" can relate to\n",
    "    - \"the cat\", \"the roof\" or \"was on\""
   ]
  },
  {
   "cell_type": "code",
   "execution_count": null,
   "metadata": {},
   "outputs": [],
   "source": []
  }
 ],
 "metadata": {
  "language_info": {
   "name": "python"
  }
 },
 "nbformat": 4,
 "nbformat_minor": 2
}
