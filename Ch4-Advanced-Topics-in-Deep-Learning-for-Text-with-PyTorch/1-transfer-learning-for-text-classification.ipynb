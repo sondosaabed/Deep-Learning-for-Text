{
 "cells": [
  {
   "cell_type": "markdown",
   "metadata": {},
   "source": [
    "### Transfer Learning for text classification\n",
    "- pre-existing knowledge from one task to a related task.\n",
    "- Saves time, share expertise, reduces need for large data\n",
    "\n",
    "- example: pretrain -> transfer learning (fine tune) -> new model\n",
    "\n",
    "### BERT: bidirectional encoder representations from transformers\n",
    "- trained for langaue modeling\n",
    "- multiple layers of transformers\n",
    "- pre-trained on large texts\n",
    "\n",
    "if the softmax probability is less than zero then the sentimnt is negative else is positive"
   ]
  }
 ],
 "metadata": {
  "language_info": {
   "name": "python"
  }
 },
 "nbformat": 4,
 "nbformat_minor": 2
}
