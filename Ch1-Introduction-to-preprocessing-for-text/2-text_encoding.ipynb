{
 "cells": [
  {
   "cell_type": "markdown",
   "metadata": {},
   "source": [
    "### Objectives\n",
    "- convert text into machine-readable numbers\n",
    "- enable analysis and modeling\n",
    "\n",
    "### Encoding techniques\n",
    "\n",
    "Use one technique\n",
    "- One-hot encoding: unique numerical representations\n",
    "    - 1 for the presnce\n",
    "    - 0 for the abscence\n",
    "- Bag of words (BoW): captures word freqency, disregarding order\n",
    "    - treat doc. as an unordered collection of words\n",
    "    - ro focus on frequency not order\n",
    "- TF-IDF: balances uniqueness and importance\n",
    "    - term frequency-inverse documnet frecuency\n",
    "    - rare words have a higher score.\n",
    "    - common ones have a lower score.\n",
    "    - emphsizes the important ones\n",
    "- Embeding: converts words into vectors, capturing semantic meaning"
   ]
  },
  {
   "cell_type": "markdown",
   "metadata": {},
   "source": [
    "### One-hot encoding with pytorch"
   ]
  },
  {
   "cell_type": "code",
   "execution_count": 1,
   "metadata": {},
   "outputs": [
    {
     "name": "stdout",
     "output_type": "stream",
     "text": [
      "{'cat': tensor([1., 0., 0.]), 'dog': tensor([0., 1., 0.]), 'rabbit': tensor([0., 0., 1.])}\n"
     ]
    }
   ],
   "source": [
    "import torch\n",
    "vocab = ['cat', 'dog','rabbit']\n",
    "vocab_size = len(vocab)\n",
    "one_hot_vectors = torch.eye(vocab_size)\n",
    "one_hot_dict = {word: one_hot_vectors[i] for i, word in enumerate(vocab)}\n",
    "print(one_hot_dict)"
   ]
  },
  {
   "cell_type": "markdown",
   "metadata": {},
   "source": [
    "### BoW (CountVectorizer)"
   ]
  },
  {
   "cell_type": "code",
   "execution_count": 2,
   "metadata": {},
   "outputs": [
    {
     "name": "stdout",
     "output_type": "stream",
     "text": [
      "[[0 0 0 0 0 1 0 0 1 1 0 0 1 0 0 0 0 1 1 0 1 1 1 0 0 0 0 1 3 1 0 1 0 1 0 0\n",
      "  0 1 1 0 1 0]\n",
      " [0 0 0 1 0 0 1 1 0 0 0 0 1 1 1 1 1 0 0 1 0 0 0 0 0 0 1 0 0 0 1 0 1 0 0 1\n",
      "  1 1 1 2 1 0]\n",
      " [1 1 1 0 1 0 0 0 0 0 1 1 0 0 0 0 0 0 0 0 0 1 1 1 1 1 0 0 1 0 0 0 0 0 1 0\n",
      "  1 0 1 0 0 1]]\n",
      "['ai' 'algorithms' 'allow' 'and' 'artificial' 'behavior' 'calculations'\n",
      " 'can' 'collective' 'combining' 'computers' 'concerned' 'create' 'data'\n",
      " 'enhance' 'experience' 'google' 'group' 'ideas' 'information' 'insights'\n",
      " 'intelligence' 'is' 'learn' 'learning' 'machine' 'new' 'novel' 'of' 'or'\n",
      " 'pagerank' 'people' 'perform' 'preferences' 'subfield' 'take' 'that'\n",
      " 'the' 'to' 'user' 'which' 'with']\n"
     ]
    }
   ],
   "source": [
    "from sklearn.feature_extraction.text import CountVectorizer\n",
    "vectorizzer = CountVectorizer()\n",
    "corpus = ['Collective intelligence: which is the combining of behavior, preferences, or ideas of a group of people to create novel insights.',\n",
    "'Google’s PageRank: which take user data and perform calculations to create new information that can enhance the user experience.'\n",
    ",'Machine Learning: is a subfield of artificial intelligence (AI) concerned with algorithms that allow computers to learn. '\n",
    "]\n",
    "x = vectorizzer.fit_transform(corpus)\n",
    "print(x.toarray())\n",
    "print(vectorizzer.get_feature_names_out())"
   ]
  },
  {
   "cell_type": "markdown",
   "metadata": {},
   "source": [
    "### TF-IDF"
   ]
  },
  {
   "cell_type": "code",
   "execution_count": 3,
   "metadata": {},
   "outputs": [
    {
     "name": "stdout",
     "output_type": "stream",
     "text": [
      "[[0.         0.         0.         0.         0.         0.23283269\n",
      "  0.         0.         0.23283269 0.23283269 0.         0.\n",
      "  0.17707526 0.         0.         0.         0.         0.23283269\n",
      "  0.23283269 0.         0.23283269 0.17707526 0.17707526 0.\n",
      "  0.         0.         0.         0.23283269 0.53122579 0.23283269\n",
      "  0.         0.23283269 0.         0.23283269 0.         0.\n",
      "  0.         0.17707526 0.13751474 0.         0.17707526 0.        ]\n",
      " [0.         0.         0.         0.23148133 0.         0.\n",
      "  0.23148133 0.23148133 0.         0.         0.         0.\n",
      "  0.17604751 0.23148133 0.23148133 0.23148133 0.23148133 0.\n",
      "  0.         0.23148133 0.         0.         0.         0.\n",
      "  0.         0.         0.23148133 0.         0.         0.\n",
      "  0.23148133 0.         0.23148133 0.         0.         0.23148133\n",
      "  0.17604751 0.17604751 0.1367166  0.46296265 0.17604751 0.        ]\n",
      " [0.27054288 0.27054288 0.27054288 0.         0.27054288 0.\n",
      "  0.         0.         0.         0.         0.27054288 0.27054288\n",
      "  0.         0.         0.         0.         0.         0.\n",
      "  0.         0.         0.         0.20575483 0.20575483 0.27054288\n",
      "  0.27054288 0.27054288 0.         0.         0.20575483 0.\n",
      "  0.         0.         0.         0.         0.27054288 0.\n",
      "  0.20575483 0.         0.15978698 0.         0.         0.27054288]]\n",
      "['ai' 'algorithms' 'allow' 'and' 'artificial' 'behavior' 'calculations'\n",
      " 'can' 'collective' 'combining' 'computers' 'concerned' 'create' 'data'\n",
      " 'enhance' 'experience' 'google' 'group' 'ideas' 'information' 'insights'\n",
      " 'intelligence' 'is' 'learn' 'learning' 'machine' 'new' 'novel' 'of' 'or'\n",
      " 'pagerank' 'people' 'perform' 'preferences' 'subfield' 'take' 'that'\n",
      " 'the' 'to' 'user' 'which' 'with']\n"
     ]
    }
   ],
   "source": [
    "from sklearn.feature_extraction.text import TfidfVectorizer\n",
    "vectorizzer = TfidfVectorizer()\n",
    "y = vectorizzer.fit_transform(corpus)\n",
    "print(y.toarray())\n",
    "print(vectorizzer.get_feature_names_out())"
   ]
  }
 ],
 "metadata": {
  "kernelspec": {
   "display_name": "Python 3",
   "language": "python",
   "name": "python3"
  },
  "language_info": {
   "codemirror_mode": {
    "name": "ipython",
    "version": 3
   },
   "file_extension": ".py",
   "mimetype": "text/x-python",
   "name": "python",
   "nbconvert_exporter": "python",
   "pygments_lexer": "ipython3",
   "version": "3.11.0"
  }
 },
 "nbformat": 4,
 "nbformat_minor": 2
}
