{
 "cells": [
  {
   "cell_type": "markdown",
   "metadata": {},
   "source": [
    "### Objectives\n",
    "- convert text into machine-readable numbers\n",
    "- enable analysis and modeling\n",
    "\n",
    "### Encoding techniques\n",
    "\n",
    "Use one technique\n",
    "- One-hot encoding: unique numerical representations\n",
    "    - 1 for the presnce\n",
    "    - 0 for the abscence\n",
    "- Bag of words (BoW): captures word freqency, disregarding order\n",
    "    - treat doc. as an unordered collection of words\n",
    "    - ro focus on frequency not order\n",
    "- TF-IDF: balances uniqueness and importance\n",
    "    - term frequency-inverse documnet frecuency\n",
    "    - rare words have a higher score.\n",
    "    - common ones have a lower score.\n",
    "    - emphsizes the important ones\n",
    "- Embeding: converts words into vectors, capturing semantic meaning"
   ]
  },
  {
   "cell_type": "markdown",
   "metadata": {},
   "source": [
    "### One-hot encoding with pytorch"
   ]
  },
  {
   "cell_type": "code",
   "execution_count": 1,
   "metadata": {},
   "outputs": [
    {
     "name": "stdout",
     "output_type": "stream",
     "text": [
      "{'cat': tensor([1., 0., 0.]), 'dog': tensor([0., 1., 0.]), 'rabbit': tensor([0., 0., 1.])}\n"
     ]
    }
   ],
   "source": [
    "import torch\n",
    "vocab = ['cat', 'dog','rabbit']\n",
    "vocab_size = len(vocab)\n",
    "one_hot_vectors = torch.eye(vocab_size)\n",
    "one_hot_dict = {word: one_hot_vectors[i] for i, word in enumerate(vocab)}\n",
    "print(one_hot_dict)"
   ]
  },
  {
   "cell_type": "markdown",
   "metadata": {},
   "source": [
    "### BoW (CountVectorizer)"
   ]
  },
  {
   "cell_type": "code",
   "execution_count": 2,
   "metadata": {},
   "outputs": [
    {
     "name": "stdout",
     "output_type": "stream",
     "text": [
      "[[0 0 0 0 0 1 0 0 1 1 0 0 1 0 0 0 0 1 1 0 1 1 1 0 0 0 0 1 3 1 0 1 0 1 0 0\n",
      "  0 1 1 0 1 0]\n",
      " [0 0 0 1 0 0 1 1 0 0 0 0 1 1 1 1 1 0 0 1 0 0 0 0 0 0 1 0 0 0 1 0 1 0 0 1\n",
      "  1 1 1 2 1 0]\n",
      " [1 1 1 0 1 0 0 0 0 0 1 1 0 0 0 0 0 0 0 0 0 1 1 1 1 1 0 0 1 0 0 0 0 0 1 0\n",
      "  1 0 1 0 0 1]]\n",
      "['ai' 'algorithms' 'allow' 'and' 'artificial' 'behavior' 'calculations'\n",
      " 'can' 'collective' 'combining' 'computers' 'concerned' 'create' 'data'\n",
      " 'enhance' 'experience' 'google' 'group' 'ideas' 'information' 'insights'\n",
      " 'intelligence' 'is' 'learn' 'learning' 'machine' 'new' 'novel' 'of' 'or'\n",
      " 'pagerank' 'people' 'perform' 'preferences' 'subfield' 'take' 'that'\n",
      " 'the' 'to' 'user' 'which' 'with']\n"
     ]
    }
   ],
   "source": [
    "from sklearn.feature_extraction.text import CountVectorizer\n",
    "vectorizzer = CountVectorizer()\n",
    "corpus = ['Collective intelligence: which is the combining of behavior, preferences, or ideas of a group of people to create novel insights.',\n",
    "'Google’s PageRank: which take user data and perform calculations to create new information that can enhance the user experience.'\n",
    ",'Machine Learning: is a subfield of artificial intelligence (AI) concerned with algorithms that allow computers to learn. '\n",
    "]\n",
    "x = vectorizzer.fit_transform(corpus)\n",
    "print(x.toarray())\n",
    "print(vectorizzer.get_feature_names_out())"
   ]
  },
  {
   "cell_type": "markdown",
   "metadata": {},
   "source": [
    "### TF-IDF"
   ]
  },
  {
   "cell_type": "code",
   "execution_count": 3,
   "metadata": {},
   "outputs": [
    {
     "name": "stdout",
     "output_type": "stream",
     "text": [
      "[[0.         0.         0.         0.         0.         0.23283269\n",
      "  0.         0.         0.23283269 0.23283269 0.         0.\n",
      "  0.17707526 0.         0.         0.         0.         0.23283269\n",
      "  0.23283269 0.         0.23283269 0.17707526 0.17707526 0.\n",
      "  0.         0.         0.         0.23283269 0.53122579 0.23283269\n",
      "  0.         0.23283269 0.         0.23283269 0.         0.\n",
      "  0.         0.17707526 0.13751474 0.         0.17707526 0.        ]\n",
      " [0.         0.         0.         0.23148133 0.         0.\n",
      "  0.23148133 0.23148133 0.         0.         0.         0.\n",
      "  0.17604751 0.23148133 0.23148133 0.23148133 0.23148133 0.\n",
      "  0.         0.23148133 0.         0.         0.         0.\n",
      "  0.         0.         0.23148133 0.         0.         0.\n",
      "  0.23148133 0.         0.23148133 0.         0.         0.23148133\n",
      "  0.17604751 0.17604751 0.1367166  0.46296265 0.17604751 0.        ]\n",
      " [0.27054288 0.27054288 0.27054288 0.         0.27054288 0.\n",
      "  0.         0.         0.         0.         0.27054288 0.27054288\n",
      "  0.         0.         0.         0.         0.         0.\n",
      "  0.         0.         0.         0.20575483 0.20575483 0.27054288\n",
      "  0.27054288 0.27054288 0.         0.         0.20575483 0.\n",
      "  0.         0.         0.         0.         0.27054288 0.\n",
      "  0.20575483 0.         0.15978698 0.         0.         0.27054288]]\n",
      "['ai' 'algorithms' 'allow' 'and' 'artificial' 'behavior' 'calculations'\n",
      " 'can' 'collective' 'combining' 'computers' 'concerned' 'create' 'data'\n",
      " 'enhance' 'experience' 'google' 'group' 'ideas' 'information' 'insights'\n",
      " 'intelligence' 'is' 'learn' 'learning' 'machine' 'new' 'novel' 'of' 'or'\n",
      " 'pagerank' 'people' 'perform' 'preferences' 'subfield' 'take' 'that'\n",
      " 'the' 'to' 'user' 'which' 'with']\n"
     ]
    }
   ],
   "source": [
    "from sklearn.feature_extraction.text import TfidfVectorizer\n",
    "vectorizzer = TfidfVectorizer()\n",
    "y = vectorizzer.fit_transform(corpus)\n",
    "print(y.toarray())\n",
    "print(vectorizzer.get_feature_names_out())"
   ]
  },
  {
   "cell_type": "markdown",
   "metadata": {},
   "source": [
    "### Practice\n",
    "\n",
    "One-hot encoded book titles\n",
    "\n",
    "PyBooks wants to catalog and analyze the book genres in its library. Apply one-hot encoding to a list of book genres to make them machine-readable.\n",
    "\n",
    "torch has been imported for you.\n",
    "Instructions\n",
    "100 XP\n",
    "\n",
    "    Define the size of the vocabulary and save to vocab_size.\n",
    "    Create one-hot vectors using the appropriate torch technique and vocab_size.\n",
    "    Create a dictionary mapping genres to their corresponding one-hot vectors using dictionary comprehension; the dictionary keys should be the genre."
   ]
  },
  {
   "cell_type": "code",
   "execution_count": 4,
   "metadata": {},
   "outputs": [
    {
     "name": "stdout",
     "output_type": "stream",
     "text": [
      "Fiction: [1. 0. 0. 0. 0.]\n",
      "Non-fiction: [0. 1. 0. 0. 0.]\n",
      "Biography: [0. 0. 1. 0. 0.]\n",
      "Children: [0. 0. 0. 1. 0.]\n",
      "Mystery: [0. 0. 0. 0. 1.]\n"
     ]
    }
   ],
   "source": [
    "genres = ['Fiction','Non-fiction','Biography', 'Children','Mystery']\n",
    "\n",
    "# Define the size of the vocabulary\n",
    "vocab_size = len(genres)\n",
    "\n",
    "# Create one-hot vectors\n",
    "one_hot_vectors = torch.eye(vocab_size)\n",
    "\n",
    "# Create a dictionary mapping genres to their one-hot vectors\n",
    "one_hot_dict = {genre: one_hot_vectors[i] for i, genre in enumerate(genres)}\n",
    "\n",
    "for genre, vector in one_hot_dict.items():\n",
    "    print(f'{genre}: {vector.numpy()}')"
   ]
  },
  {
   "cell_type": "markdown",
   "metadata": {},
   "source": [
    "Bag-of-words for book titles\n",
    "\n",
    "PyBooks now has a list of book titles that need to be encoded for further analysis. The data team believes the Bag of Words (BoW) model could be the best approach.\n",
    "\n",
    "The following packages have been imported for you: torch, torchtext.\n",
    "Instructions\n",
    "100 XP\n",
    "\n",
    "    Import the CountVectorizer class for implementing bag-of-words.\n",
    "    Initialize an object of the class you imported, then use this object to transform the titles into a matrix representation.\n",
    "    Extract and display the first five feature names and encoded titles with the get_feature_names_out() method.\n"
   ]
  },
  {
   "cell_type": "code",
   "execution_count": 5,
   "metadata": {},
   "outputs": [
    {
     "name": "stdout",
     "output_type": "stream",
     "text": [
      "['1984' 'catcher' 'expectations' 'gatsby' 'great']\n",
      "[0 0 0 1 1]\n"
     ]
    }
   ],
   "source": [
    "# Import from sklearn\n",
    "from sklearn.feature_extraction.text import CountVectorizer\n",
    "\n",
    "titles = ['The Great Gatsby','To Kill a Mockingbird','1984','The Catcher in the Rye','The Hobbit', 'Great Expectations']\n",
    "\n",
    "# Initialize Bag-of-words with the list of book titles\n",
    "vectorizer = CountVectorizer()\n",
    "bow_encoded_titles = vectorizer.fit_transform(titles)\n",
    "\n",
    "# Extract and print the first five features\n",
    "print(vectorizer.get_feature_names_out()[:5])\n",
    "print(bow_encoded_titles.toarray()[0, :5])"
   ]
  },
  {
   "cell_type": "markdown",
   "metadata": {},
   "source": [
    "Applying TF-IDF to book descriptions\n",
    "\n",
    "PyBooks has collected several book descriptions and wants to identify important words within them using the TF-IDF encoding technique. By doing this, they hope to gain more insights into the unique attributes of each book to help with their book recommendation system.\n",
    "\n",
    "The following packages have been imported for you: torch, torchtext.\n",
    "Instructions\n",
    "100 XP\n",
    "\n",
    "    Import the class from sklearn.feature_extraction.text that converts a collection of raw documents to a matrix of TF-IDF features.\n",
    "    Instantiate an object of this class, then use this object to encode the descriptions into a TF-IDF matrix of vectors.\n",
    "    Retrieve and display the first five feature names from the vectorizer and encoded vectors from tfidf_encoded_descriptions.\n"
   ]
  },
  {
   "cell_type": "code",
   "execution_count": 7,
   "metadata": {},
   "outputs": [
    {
     "name": "stdout",
     "output_type": "stream",
     "text": [
      "['1984' 'catcher' 'expectations' 'gatsby' 'great']\n",
      "[0.         0.         0.         0.68172171 0.55902156]\n"
     ]
    }
   ],
   "source": [
    "# Importing TF-IDF from sklearn\n",
    "from sklearn.feature_extraction.text import TfidfVectorizer\n",
    "\n",
    "# Initialize TF-IDF encoding vectorizer\n",
    "vectorizer = TfidfVectorizer()\n",
    "tfidf_encoded_descriptions = vectorizer.fit_transform(titles)\n",
    "\n",
    "# Extract and print the first five features\n",
    "print(vectorizer.get_feature_names_out()[:5])\n",
    "print(tfidf_encoded_descriptions.toarray()[0, :5])"
   ]
  }
 ],
 "metadata": {
  "kernelspec": {
   "display_name": "Python 3",
   "language": "python",
   "name": "python3"
  },
  "language_info": {
   "codemirror_mode": {
    "name": "ipython",
    "version": 3
   },
   "file_extension": ".py",
   "mimetype": "text/x-python",
   "name": "python",
   "nbconvert_exporter": "python",
   "pygments_lexer": "ipython3",
   "version": "3.11.0"
  }
 },
 "nbformat": 4,
 "nbformat_minor": 2
}
